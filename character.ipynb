{
 "cells": [
  {
   "cell_type": "code",
   "execution_count": 14,
   "id": "b8c38d9f-4eae-442c-b993-bf433a72bb00",
   "metadata": {},
   "outputs": [],
   "source": [
    "import random"
   ]
  },
  {
   "cell_type": "code",
   "execution_count": 15,
   "id": "a6d81697-b54f-4d32-ab24-6d599bfacd6e",
   "metadata": {},
   "outputs": [],
   "source": [
    "class Character:\n",
    "    def __init__(self,name : str | None):\n",
    "        self.name = name\n",
    "        self.hp : int = random.randint(10, 50)\n",
    "        self.xp : int = 0\n",
    "        "
   ]
  },
  {
   "cell_type": "code",
   "execution_count": 9,
   "id": "2c4fd5f7-e8d1-4c49-a431-db71bcf4030b",
   "metadata": {},
   "outputs": [],
   "source": [
    "class Villain(Character):\n",
    "    attack_power : int = random.randint(5, 25)\n",
    "    def play_attack(self,Hero):\n",
    "        if self.attack_power <= Hero.attack_power:\n",
    "            self.hp -= Hero.attack_power\n",
    "            return \"GAME OVER HERO WIN\"\n",
    "        else:\n",
    "            Hero.hp -= self.attack_power\n",
    "            return \"GAME OVER VILLAIN WIN\""
   ]
  },
  {
   "cell_type": "code",
   "execution_count": 16,
   "id": "41da3fc3-3a80-4f69-aad6-c5fbefe0e5ec",
   "metadata": {},
   "outputs": [],
   "source": [
    "class Hero(Villain):\n",
    "    money : int = 0\n",
    "    def collect_money(self):\n",
    "        if self.xp > self.hp:\n",
    "            self.collected_money += 10\n",
    "            return f\"{self.collect_money} столько деняг многа\"\n",
    "        else:\n",
    "            self.collected_money -= 1\n",
    "            return f\"{self.collect_money} столько деняг мало\"\n",
    "            \n",
    "        \n",
    "        "
   ]
  },
  {
   "cell_type": "code",
   "execution_count": 17,
   "id": "55b66e84-92fd-4237-96de-b1d3b993ef02",
   "metadata": {},
   "outputs": [
    {
     "name": "stdout",
     "output_type": "stream",
     "text": [
      "22 22\n"
     ]
    }
   ],
   "source": [
    "Vova = Hero(\"Vova\")\n",
    "Anton = Villain(\"Anton\")\n",
    "print(Vova.attack_power,Anton.attack_power)"
   ]
  },
  {
   "cell_type": "code",
   "execution_count": 18,
   "id": "d9db1b1b-7300-4ae2-9c4a-dc732e9c3e6b",
   "metadata": {},
   "outputs": [
    {
     "name": "stdout",
     "output_type": "stream",
     "text": [
      "GAME OVER HERO WIN\n",
      "49\n",
      "-12\n"
     ]
    }
   ],
   "source": [
    "print(Anton.play_attack(Vova))\n",
    "print(Vova.hp)\n",
    "print(Anton.hp)"
   ]
  },
  {
   "cell_type": "code",
   "execution_count": null,
   "id": "9f452921-c1c1-426f-9254-dcb7b88b28f3",
   "metadata": {},
   "outputs": [],
   "source": []
  }
 ],
 "metadata": {
  "kernelspec": {
   "display_name": "Python 3 (ipykernel)",
   "language": "python",
   "name": "python3"
  },
  "language_info": {
   "codemirror_mode": {
    "name": "ipython",
    "version": 3
   },
   "file_extension": ".py",
   "mimetype": "text/x-python",
   "name": "python",
   "nbconvert_exporter": "python",
   "pygments_lexer": "ipython3",
   "version": "3.11.5"
  }
 },
 "nbformat": 4,
 "nbformat_minor": 5
}
