{
 "cells": [
  {
   "cell_type": "code",
   "execution_count": 2,
   "outputs": [],
   "source": [
    "from scipy import stats as st"
   ],
   "metadata": {
    "collapsed": false,
    "ExecuteTime": {
     "end_time": "2023-10-26T18:18:15.206116400Z",
     "start_time": "2023-10-26T18:18:14.180869Z"
    }
   },
   "id": "5849463a22cfb175"
  },
  {
   "cell_type": "markdown",
   "source": [
    "### 1 Задание:\n",
    " Приведены два датасета: время использования одними и теми же пользователями личного кабинета сайта до редизайна и после. Проверьте гипотезу, что после редизайна время использования личного кабинета на сайте изменилось (увеличилось или уменьшилось). Установите уровень статистической значимости 0.05.\n",
    "\n",
    "\n",
    "### ГИПОТЕЗА\n",
    "\n",
    "$H_0$: После редизайна время пользователя на сайте == до редизайна\n",
    "$H_1$: После редизайна время пользователя на сайте > чем до редизайна\n",
    "    "
   ],
   "metadata": {
    "collapsed": false
   },
   "id": "8add40ee09b6b4e3"
  },
  {
   "cell_type": "code",
   "execution_count": 3,
   "outputs": [],
   "source": [
    "time_before = [1732, 1301, 1540, 2247, 1632, 1550, 754, 1946, 1889,\n",
    "               2748, 1349, 1648, 1665, 2416, 1470, 1681, 1868, 1629,\n",
    "               1271, 1633, 2131, 942, 1599, 1127, 2200, 661, 1207,\n",
    "               1737, 2410, 1486]\n",
    "\n",
    "time_after = [955, 2577, 360, 139, 1618, 990, 644, 1796, 1487, 949, 472,\n",
    "              1906, 1758, 1258, 2554, 612, 309, 1864, 1294, 1487, 1164, 1559,\n",
    "              491, 2286, 1270, 2069, 1553, 1629, 1704, 1623]"
   ],
   "metadata": {
    "collapsed": false,
    "ExecuteTime": {
     "end_time": "2023-10-26T18:18:28.146704100Z",
     "start_time": "2023-10-26T18:18:28.140130Z"
    }
   },
   "id": "9e5157dd033c2841"
  },
  {
   "cell_type": "code",
   "execution_count": 5,
   "outputs": [
    {
     "name": "stdout",
     "output_type": "stream",
     "text": [
      "p-t_statistic: 1.845889462014165\n",
      "p-value: 0.0751397944405015\n",
      "Нет оснований отвергнуть нулевую гипотезу\n"
     ]
    }
   ],
   "source": [
    "alpha = 0.05\n",
    "\n",
    "t_statistic, p_value = st.ttest_rel(time_before, time_after)\n",
    "\n",
    "print(f\"t_statistic: {t_statistic}\")\n",
    "print(f'p_value: {p_value}')\n",
    "\n",
    "if p_value < alpha:\n",
    "    print('Отвергаем нулевую гипотезу')\n",
    "else:\n",
    "    print('Нет оснований отвергнуть нулевую гипотезу')\n"
   ],
   "metadata": {
    "collapsed": false,
    "ExecuteTime": {
     "end_time": "2023-10-26T18:19:50.089554Z",
     "start_time": "2023-10-26T18:19:50.067760300Z"
    }
   },
   "id": "dfa9a1fdb70cbaab"
  },
  {
   "cell_type": "markdown",
   "source": [
    "### 2 Задание:\n",
    "В онлайн-игре произошли изменения: ввели новую игровую логику, которая стимулирует пользователей к стрельбе очередями. У вас есть два датасета: в них количество патронов, которые покупают постоянные игроки в онлайн-игре, до и после изменения. Проверьте гипотезу о том, что после нововведений количество используемых патронов изменилось.\n",
    "\n",
    "(зависимый - тк два набора данных, которые получены от одних и тех же индивидуумов до и после некоторых манипуляций)\n",
    "\n",
    "### ГИПОТЕЗА\n",
    "\n",
    "$H_0$: Количество патронов после измПосле редизайна время пользователя на сайте == к и до редизайна\n",
    "$H_1$: После редизайна время пользователя на сайте > чем до редизайна"
   ],
   "metadata": {
    "collapsed": false
   },
   "id": "90b69946b62fa88c"
  },
  {
   "cell_type": "code",
   "execution_count": 7,
   "outputs": [],
   "source": [
    "bullets_before = [821, 1164, 598, 854, 455, 1220, 161, 1400, 479, 215,\n",
    "                  564, 159, 920, 173, 276, 444, 273, 711, 291, 880,\n",
    "                  892, 712, 16, 476, 498, 9, 1251, 938, 389, 513]\n",
    "\n",
    "bullets_after = [904, 220, 676, 459, 299, 659, 1698, 1120, 514, 1086, 1499,\n",
    "                 1262, 829, 476, 1149, 996, 1247, 1117, 1324, 532, 1458, 898,\n",
    "                 1837, 455, 1667, 898, 474, 558, 639, 1012]\n"
   ],
   "metadata": {
    "collapsed": false,
    "ExecuteTime": {
     "end_time": "2023-10-26T18:30:51.577860100Z",
     "start_time": "2023-10-26T18:30:51.565780600Z"
    }
   },
   "id": "ece62b55ed42958c"
  },
  {
   "cell_type": "code",
   "execution_count": 8,
   "outputs": [
    {
     "name": "stdout",
     "output_type": "stream",
     "text": [
      "t_statistic: -2.724804185853386\n",
      "p_value: 0.010789503820811123\n",
      "Отвергаем нулевую гипотезу\n"
     ]
    }
   ],
   "source": [
    "alpha = 0.05\n",
    "\n",
    "t_statistic, p_value = st.ttest_rel(bullets_before, bullets_after)\n",
    "\n",
    "print(f't_statistic: {t_statistic}')\n",
    "print(f'p_value: {p_value}')\n",
    "\n",
    "if p_value < alpha:\n",
    "    print('Отвергаем нулевую гипотезу')\n",
    "else:\n",
    "    print('Нет оснований отвергнуть нулевую гипотезу')"
   ],
   "metadata": {
    "collapsed": false,
    "ExecuteTime": {
     "end_time": "2023-10-26T18:30:52.401993100Z",
     "start_time": "2023-10-26T18:30:52.391665Z"
    }
   },
   "id": "a6a6a2f885bd39c3"
  }
 ],
 "metadata": {
  "kernelspec": {
   "display_name": "Python 3",
   "language": "python",
   "name": "python3"
  },
  "language_info": {
   "codemirror_mode": {
    "name": "ipython",
    "version": 2
   },
   "file_extension": ".py",
   "mimetype": "text/x-python",
   "name": "python",
   "nbconvert_exporter": "python",
   "pygments_lexer": "ipython2",
   "version": "2.7.6"
  }
 },
 "nbformat": 4,
 "nbformat_minor": 5
}
